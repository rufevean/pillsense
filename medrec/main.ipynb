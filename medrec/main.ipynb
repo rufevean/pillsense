{
 "cells": [
  {
   "cell_type": "code",
   "execution_count": 1,
   "metadata": {},
   "outputs": [],
   "source": [
    "#importing libraries\n",
    "\n",
    "import pandas as pd\n",
    "from tqdm import tqdm\n",
    "from sklearn.feature_extraction.text import TfidfVectorizer\n",
    "from sklearn.metrics.pairwise import cosine_similarity \n",
    "from sklearn.decomposition import TruncatedSVD\n",
    "import faiss\n",
    "import numpy as np\n"
   ]
  },
  {
   "cell_type": "code",
   "execution_count": 2,
   "metadata": {},
   "outputs": [
    {
     "data": {
      "text/html": [
       "<div>\n",
       "<style scoped>\n",
       "    .dataframe tbody tr th:only-of-type {\n",
       "        vertical-align: middle;\n",
       "    }\n",
       "\n",
       "    .dataframe tbody tr th {\n",
       "        vertical-align: top;\n",
       "    }\n",
       "\n",
       "    .dataframe thead th {\n",
       "        text-align: right;\n",
       "    }\n",
       "</style>\n",
       "<table border=\"1\" class=\"dataframe\">\n",
       "  <thead>\n",
       "    <tr style=\"text-align: right;\">\n",
       "      <th></th>\n",
       "      <th>id</th>\n",
       "      <th>name</th>\n",
       "      <th>price(₹)</th>\n",
       "      <th>Is_discontinued</th>\n",
       "      <th>manufacturer_name</th>\n",
       "      <th>type</th>\n",
       "      <th>pack_size_label</th>\n",
       "      <th>short_composition1</th>\n",
       "      <th>short_composition2</th>\n",
       "    </tr>\n",
       "  </thead>\n",
       "  <tbody>\n",
       "    <tr>\n",
       "      <th>0</th>\n",
       "      <td>1</td>\n",
       "      <td>Augmentin 625 Duo Tablet</td>\n",
       "      <td>223.42</td>\n",
       "      <td>False</td>\n",
       "      <td>Glaxo SmithKline Pharmaceuticals Ltd</td>\n",
       "      <td>allopathy</td>\n",
       "      <td>strip of 10 tablets</td>\n",
       "      <td>Amoxycillin  (500mg)</td>\n",
       "      <td>Clavulanic Acid (125mg)</td>\n",
       "    </tr>\n",
       "    <tr>\n",
       "      <th>1</th>\n",
       "      <td>2</td>\n",
       "      <td>Azithral 500 Tablet</td>\n",
       "      <td>132.36</td>\n",
       "      <td>False</td>\n",
       "      <td>Alembic Pharmaceuticals Ltd</td>\n",
       "      <td>allopathy</td>\n",
       "      <td>strip of 5 tablets</td>\n",
       "      <td>Azithromycin (500mg)</td>\n",
       "      <td>NaN</td>\n",
       "    </tr>\n",
       "    <tr>\n",
       "      <th>2</th>\n",
       "      <td>3</td>\n",
       "      <td>Ascoril LS Syrup</td>\n",
       "      <td>118.00</td>\n",
       "      <td>False</td>\n",
       "      <td>Glenmark Pharmaceuticals Ltd</td>\n",
       "      <td>allopathy</td>\n",
       "      <td>bottle of 100 ml Syrup</td>\n",
       "      <td>Ambroxol (30mg/5ml)</td>\n",
       "      <td>Levosalbutamol (1mg/5ml)</td>\n",
       "    </tr>\n",
       "    <tr>\n",
       "      <th>3</th>\n",
       "      <td>4</td>\n",
       "      <td>Allegra 120mg Tablet</td>\n",
       "      <td>218.81</td>\n",
       "      <td>False</td>\n",
       "      <td>Sanofi India  Ltd</td>\n",
       "      <td>allopathy</td>\n",
       "      <td>strip of 10 tablets</td>\n",
       "      <td>Fexofenadine (120mg)</td>\n",
       "      <td>NaN</td>\n",
       "    </tr>\n",
       "    <tr>\n",
       "      <th>4</th>\n",
       "      <td>5</td>\n",
       "      <td>Avil 25 Tablet</td>\n",
       "      <td>10.96</td>\n",
       "      <td>False</td>\n",
       "      <td>Sanofi India  Ltd</td>\n",
       "      <td>allopathy</td>\n",
       "      <td>strip of 15 tablets</td>\n",
       "      <td>Pheniramine (25mg)</td>\n",
       "      <td>NaN</td>\n",
       "    </tr>\n",
       "  </tbody>\n",
       "</table>\n",
       "</div>"
      ],
      "text/plain": [
       "   id                      name  price(₹)  Is_discontinued  \\\n",
       "0   1  Augmentin 625 Duo Tablet    223.42            False   \n",
       "1   2       Azithral 500 Tablet    132.36            False   \n",
       "2   3          Ascoril LS Syrup    118.00            False   \n",
       "3   4      Allegra 120mg Tablet    218.81            False   \n",
       "4   5            Avil 25 Tablet     10.96            False   \n",
       "\n",
       "                      manufacturer_name       type         pack_size_label  \\\n",
       "0  Glaxo SmithKline Pharmaceuticals Ltd  allopathy     strip of 10 tablets   \n",
       "1           Alembic Pharmaceuticals Ltd  allopathy      strip of 5 tablets   \n",
       "2          Glenmark Pharmaceuticals Ltd  allopathy  bottle of 100 ml Syrup   \n",
       "3                     Sanofi India  Ltd  allopathy     strip of 10 tablets   \n",
       "4                     Sanofi India  Ltd  allopathy     strip of 15 tablets   \n",
       "\n",
       "      short_composition1          short_composition2  \n",
       "0  Amoxycillin  (500mg)      Clavulanic Acid (125mg)  \n",
       "1   Azithromycin (500mg)                         NaN  \n",
       "2   Ambroxol (30mg/5ml)    Levosalbutamol (1mg/5ml)   \n",
       "3   Fexofenadine (120mg)                         NaN  \n",
       "4     Pheniramine (25mg)                         NaN  "
      ]
     },
     "execution_count": 2,
     "metadata": {},
     "output_type": "execute_result"
    }
   ],
   "source": [
    "df = pd.read_csv(\"data.csv\")\n",
    "df.head()"
   ]
  },
  {
   "cell_type": "code",
   "execution_count": 3,
   "metadata": {},
   "outputs": [
    {
     "data": {
      "text/plain": [
       "(253973, 9)"
      ]
     },
     "execution_count": 3,
     "metadata": {},
     "output_type": "execute_result"
    }
   ],
   "source": [
    "df.shape"
   ]
  },
  {
   "cell_type": "markdown",
   "metadata": {},
   "source": [
    "##### Process\n",
    "\n",
    "We will take an input and use its short composition 1 and short compostion 2 , and find medicines with similar or same composition and then we will check which medicines have lesser price and recommend them that. "
   ]
  },
  {
   "cell_type": "code",
   "execution_count": 4,
   "metadata": {},
   "outputs": [],
   "source": [
    "df = df.drop(\"type\",axis='columns')\n",
    "df = df.drop(\"pack_size_label\",axis=\"columns\")\n",
    "df = df.drop(\"Is_discontinued\",axis=\"columns\")"
   ]
  },
  {
   "cell_type": "code",
   "execution_count": 5,
   "metadata": {},
   "outputs": [
    {
     "data": {
      "text/html": [
       "<div>\n",
       "<style scoped>\n",
       "    .dataframe tbody tr th:only-of-type {\n",
       "        vertical-align: middle;\n",
       "    }\n",
       "\n",
       "    .dataframe tbody tr th {\n",
       "        vertical-align: top;\n",
       "    }\n",
       "\n",
       "    .dataframe thead th {\n",
       "        text-align: right;\n",
       "    }\n",
       "</style>\n",
       "<table border=\"1\" class=\"dataframe\">\n",
       "  <thead>\n",
       "    <tr style=\"text-align: right;\">\n",
       "      <th></th>\n",
       "      <th>id</th>\n",
       "      <th>name</th>\n",
       "      <th>price(₹)</th>\n",
       "      <th>manufacturer_name</th>\n",
       "      <th>short_composition1</th>\n",
       "      <th>short_composition2</th>\n",
       "    </tr>\n",
       "  </thead>\n",
       "  <tbody>\n",
       "    <tr>\n",
       "      <th>0</th>\n",
       "      <td>1</td>\n",
       "      <td>Augmentin 625 Duo Tablet</td>\n",
       "      <td>223.42</td>\n",
       "      <td>Glaxo SmithKline Pharmaceuticals Ltd</td>\n",
       "      <td>Amoxycillin  (500mg)</td>\n",
       "      <td>Clavulanic Acid (125mg)</td>\n",
       "    </tr>\n",
       "    <tr>\n",
       "      <th>1</th>\n",
       "      <td>2</td>\n",
       "      <td>Azithral 500 Tablet</td>\n",
       "      <td>132.36</td>\n",
       "      <td>Alembic Pharmaceuticals Ltd</td>\n",
       "      <td>Azithromycin (500mg)</td>\n",
       "      <td>NaN</td>\n",
       "    </tr>\n",
       "    <tr>\n",
       "      <th>2</th>\n",
       "      <td>3</td>\n",
       "      <td>Ascoril LS Syrup</td>\n",
       "      <td>118.00</td>\n",
       "      <td>Glenmark Pharmaceuticals Ltd</td>\n",
       "      <td>Ambroxol (30mg/5ml)</td>\n",
       "      <td>Levosalbutamol (1mg/5ml)</td>\n",
       "    </tr>\n",
       "    <tr>\n",
       "      <th>3</th>\n",
       "      <td>4</td>\n",
       "      <td>Allegra 120mg Tablet</td>\n",
       "      <td>218.81</td>\n",
       "      <td>Sanofi India  Ltd</td>\n",
       "      <td>Fexofenadine (120mg)</td>\n",
       "      <td>NaN</td>\n",
       "    </tr>\n",
       "    <tr>\n",
       "      <th>4</th>\n",
       "      <td>5</td>\n",
       "      <td>Avil 25 Tablet</td>\n",
       "      <td>10.96</td>\n",
       "      <td>Sanofi India  Ltd</td>\n",
       "      <td>Pheniramine (25mg)</td>\n",
       "      <td>NaN</td>\n",
       "    </tr>\n",
       "  </tbody>\n",
       "</table>\n",
       "</div>"
      ],
      "text/plain": [
       "   id                      name  price(₹)  \\\n",
       "0   1  Augmentin 625 Duo Tablet    223.42   \n",
       "1   2       Azithral 500 Tablet    132.36   \n",
       "2   3          Ascoril LS Syrup    118.00   \n",
       "3   4      Allegra 120mg Tablet    218.81   \n",
       "4   5            Avil 25 Tablet     10.96   \n",
       "\n",
       "                      manufacturer_name     short_composition1  \\\n",
       "0  Glaxo SmithKline Pharmaceuticals Ltd  Amoxycillin  (500mg)    \n",
       "1           Alembic Pharmaceuticals Ltd   Azithromycin (500mg)   \n",
       "2          Glenmark Pharmaceuticals Ltd   Ambroxol (30mg/5ml)    \n",
       "3                     Sanofi India  Ltd   Fexofenadine (120mg)   \n",
       "4                     Sanofi India  Ltd     Pheniramine (25mg)   \n",
       "\n",
       "           short_composition2  \n",
       "0     Clavulanic Acid (125mg)  \n",
       "1                         NaN  \n",
       "2   Levosalbutamol (1mg/5ml)   \n",
       "3                         NaN  \n",
       "4                         NaN  "
      ]
     },
     "execution_count": 5,
     "metadata": {},
     "output_type": "execute_result"
    }
   ],
   "source": [
    "df.head()"
   ]
  },
  {
   "cell_type": "code",
   "execution_count": 6,
   "metadata": {},
   "outputs": [],
   "source": [
    "df.rename(columns={\"price(₹)\":\"prices\"},inplace=True)"
   ]
  },
  {
   "cell_type": "code",
   "execution_count": 7,
   "metadata": {},
   "outputs": [],
   "source": [
    "df['name'] = df['name'].str.replace(r'\\s* Tablet$', '', regex=True)"
   ]
  },
  {
   "cell_type": "code",
   "execution_count": 8,
   "metadata": {},
   "outputs": [
    {
     "data": {
      "text/html": [
       "<div>\n",
       "<style scoped>\n",
       "    .dataframe tbody tr th:only-of-type {\n",
       "        vertical-align: middle;\n",
       "    }\n",
       "\n",
       "    .dataframe tbody tr th {\n",
       "        vertical-align: top;\n",
       "    }\n",
       "\n",
       "    .dataframe thead th {\n",
       "        text-align: right;\n",
       "    }\n",
       "</style>\n",
       "<table border=\"1\" class=\"dataframe\">\n",
       "  <thead>\n",
       "    <tr style=\"text-align: right;\">\n",
       "      <th></th>\n",
       "      <th>id</th>\n",
       "      <th>name</th>\n",
       "      <th>prices</th>\n",
       "      <th>manufacturer_name</th>\n",
       "      <th>short_composition1</th>\n",
       "      <th>short_composition2</th>\n",
       "    </tr>\n",
       "  </thead>\n",
       "  <tbody>\n",
       "    <tr>\n",
       "      <th>0</th>\n",
       "      <td>1</td>\n",
       "      <td>Augmentin 625 Duo</td>\n",
       "      <td>223.42</td>\n",
       "      <td>Glaxo SmithKline Pharmaceuticals Ltd</td>\n",
       "      <td>Amoxycillin  (500mg)</td>\n",
       "      <td>Clavulanic Acid (125mg)</td>\n",
       "    </tr>\n",
       "    <tr>\n",
       "      <th>1</th>\n",
       "      <td>2</td>\n",
       "      <td>Azithral 500</td>\n",
       "      <td>132.36</td>\n",
       "      <td>Alembic Pharmaceuticals Ltd</td>\n",
       "      <td>Azithromycin (500mg)</td>\n",
       "      <td>NaN</td>\n",
       "    </tr>\n",
       "    <tr>\n",
       "      <th>2</th>\n",
       "      <td>3</td>\n",
       "      <td>Ascoril LS Syrup</td>\n",
       "      <td>118.00</td>\n",
       "      <td>Glenmark Pharmaceuticals Ltd</td>\n",
       "      <td>Ambroxol (30mg/5ml)</td>\n",
       "      <td>Levosalbutamol (1mg/5ml)</td>\n",
       "    </tr>\n",
       "    <tr>\n",
       "      <th>3</th>\n",
       "      <td>4</td>\n",
       "      <td>Allegra 120mg</td>\n",
       "      <td>218.81</td>\n",
       "      <td>Sanofi India  Ltd</td>\n",
       "      <td>Fexofenadine (120mg)</td>\n",
       "      <td>NaN</td>\n",
       "    </tr>\n",
       "    <tr>\n",
       "      <th>4</th>\n",
       "      <td>5</td>\n",
       "      <td>Avil 25</td>\n",
       "      <td>10.96</td>\n",
       "      <td>Sanofi India  Ltd</td>\n",
       "      <td>Pheniramine (25mg)</td>\n",
       "      <td>NaN</td>\n",
       "    </tr>\n",
       "  </tbody>\n",
       "</table>\n",
       "</div>"
      ],
      "text/plain": [
       "   id               name  prices                     manufacturer_name  \\\n",
       "0   1  Augmentin 625 Duo  223.42  Glaxo SmithKline Pharmaceuticals Ltd   \n",
       "1   2       Azithral 500  132.36           Alembic Pharmaceuticals Ltd   \n",
       "2   3   Ascoril LS Syrup  118.00          Glenmark Pharmaceuticals Ltd   \n",
       "3   4      Allegra 120mg  218.81                     Sanofi India  Ltd   \n",
       "4   5            Avil 25   10.96                     Sanofi India  Ltd   \n",
       "\n",
       "      short_composition1          short_composition2  \n",
       "0  Amoxycillin  (500mg)      Clavulanic Acid (125mg)  \n",
       "1   Azithromycin (500mg)                         NaN  \n",
       "2   Ambroxol (30mg/5ml)    Levosalbutamol (1mg/5ml)   \n",
       "3   Fexofenadine (120mg)                         NaN  \n",
       "4     Pheniramine (25mg)                         NaN  "
      ]
     },
     "execution_count": 8,
     "metadata": {},
     "output_type": "execute_result"
    }
   ],
   "source": [
    "df.head()"
   ]
  },
  {
   "cell_type": "code",
   "execution_count": 9,
   "metadata": {},
   "outputs": [
    {
     "name": "stderr",
     "output_type": "stream",
     "text": [
      "100%|██████████| 253973/253973 [01:10<00:00, 3607.86it/s]\n"
     ]
    }
   ],
   "source": [
    "prices_map = {}\n",
    "\n",
    "for index,row in tqdm(df.iterrows(),total=len(df)):\n",
    "    prices_map[row[\"name\"]] = row[[\"prices\",\"manufacturer_name\"]]"
   ]
  },
  {
   "cell_type": "code",
   "execution_count": 10,
   "metadata": {},
   "outputs": [],
   "source": [
    "df = df.drop(\"prices\",axis=\"columns\")\n",
    "df = df.drop(\"manufacturer_name\",axis=\"columns\") \n",
    "df = df.drop(\"id\",axis=\"columns\")"
   ]
  },
  {
   "cell_type": "code",
   "execution_count": 11,
   "metadata": {},
   "outputs": [
    {
     "name": "stderr",
     "output_type": "stream",
     "text": [
      "/tmp/ipykernel_581216/2868790767.py:3: FutureWarning: A value is trying to be set on a copy of a DataFrame or Series through chained assignment using an inplace method.\n",
      "The behavior will change in pandas 3.0. This inplace method will never work because the intermediate object on which we are setting values always behaves as a copy.\n",
      "\n",
      "For example, when doing 'df[col].method(value, inplace=True)', try using 'df.method({col: value}, inplace=True)' or df[col] = df[col].method(value) instead, to perform the operation inplace on the original object.\n",
      "\n",
      "\n",
      "  df['short_composition1'].fillna(\"\",inplace=True)\n",
      "/tmp/ipykernel_581216/2868790767.py:4: FutureWarning: A value is trying to be set on a copy of a DataFrame or Series through chained assignment using an inplace method.\n",
      "The behavior will change in pandas 3.0. This inplace method will never work because the intermediate object on which we are setting values always behaves as a copy.\n",
      "\n",
      "For example, when doing 'df[col].method(value, inplace=True)', try using 'df.method({col: value}, inplace=True)' or df[col] = df[col].method(value) instead, to perform the operation inplace on the original object.\n",
      "\n",
      "\n",
      "  df['short_composition2'].fillna(\"\",inplace=True)\n"
     ]
    }
   ],
   "source": [
    "## filling Nan with empty strings\n",
    "\n",
    "df['short_composition1'].fillna(\"\",inplace=True)\n",
    "df['short_composition2'].fillna(\"\",inplace=True)"
   ]
  },
  {
   "cell_type": "code",
   "execution_count": 12,
   "metadata": {},
   "outputs": [],
   "source": [
    "df['combined_composition'] = df['short_composition1']+ \" \" + df['short_composition2']"
   ]
  },
  {
   "cell_type": "code",
   "execution_count": 13,
   "metadata": {},
   "outputs": [],
   "source": [
    "# removing short composition in the dataframe\n",
    "df = df.drop(\"short_composition1\",axis=\"columns\")\n",
    "df = df.drop(\"short_composition2\",axis=\"columns\")"
   ]
  },
  {
   "cell_type": "code",
   "execution_count": 14,
   "metadata": {},
   "outputs": [
    {
     "data": {
      "text/html": [
       "<div>\n",
       "<style scoped>\n",
       "    .dataframe tbody tr th:only-of-type {\n",
       "        vertical-align: middle;\n",
       "    }\n",
       "\n",
       "    .dataframe tbody tr th {\n",
       "        vertical-align: top;\n",
       "    }\n",
       "\n",
       "    .dataframe thead th {\n",
       "        text-align: right;\n",
       "    }\n",
       "</style>\n",
       "<table border=\"1\" class=\"dataframe\">\n",
       "  <thead>\n",
       "    <tr style=\"text-align: right;\">\n",
       "      <th></th>\n",
       "      <th>name</th>\n",
       "      <th>combined_composition</th>\n",
       "    </tr>\n",
       "  </thead>\n",
       "  <tbody>\n",
       "    <tr>\n",
       "      <th>0</th>\n",
       "      <td>Augmentin 625 Duo</td>\n",
       "      <td>Amoxycillin  (500mg)    Clavulanic Acid (125mg)</td>\n",
       "    </tr>\n",
       "    <tr>\n",
       "      <th>1</th>\n",
       "      <td>Azithral 500</td>\n",
       "      <td>Azithromycin (500mg)</td>\n",
       "    </tr>\n",
       "    <tr>\n",
       "      <th>2</th>\n",
       "      <td>Ascoril LS Syrup</td>\n",
       "      <td>Ambroxol (30mg/5ml)   Levosalbutamol (1mg/5ml)</td>\n",
       "    </tr>\n",
       "    <tr>\n",
       "      <th>3</th>\n",
       "      <td>Allegra 120mg</td>\n",
       "      <td>Fexofenadine (120mg)</td>\n",
       "    </tr>\n",
       "    <tr>\n",
       "      <th>4</th>\n",
       "      <td>Avil 25</td>\n",
       "      <td>Pheniramine (25mg)</td>\n",
       "    </tr>\n",
       "  </tbody>\n",
       "</table>\n",
       "</div>"
      ],
      "text/plain": [
       "                name                             combined_composition\n",
       "0  Augmentin 625 Duo  Amoxycillin  (500mg)    Clavulanic Acid (125mg)\n",
       "1       Azithral 500                            Azithromycin (500mg) \n",
       "2   Ascoril LS Syrup  Ambroxol (30mg/5ml)   Levosalbutamol (1mg/5ml) \n",
       "3      Allegra 120mg                            Fexofenadine (120mg) \n",
       "4            Avil 25                              Pheniramine (25mg) "
      ]
     },
     "execution_count": 14,
     "metadata": {},
     "output_type": "execute_result"
    }
   ],
   "source": []
  },
  {
   "cell_type": "code",
   "execution_count": 15,
   "metadata": {},
   "outputs": [
    {
     "data": {
      "text/plain": [
       "(250000, 2)"
      ]
     },
     "execution_count": 15,
     "metadata": {},
     "output_type": "execute_result"
    }
   ],
   "source": [
    "df = df.iloc[:250000]\n",
    "df.shape"
   ]
  },
  {
   "cell_type": "code",
   "execution_count": 16,
   "metadata": {},
   "outputs": [],
   "source": [
    "vectorizer = TfidfVectorizer()\n",
    "tfidf_matrix = vectorizer.fit_transform(df['combined_composition'])"
   ]
  },
  {
   "cell_type": "code",
   "execution_count": 17,
   "metadata": {},
   "outputs": [],
   "source": [
    "svd = TruncatedSVD(n_components=3)\n",
    "tfidf_matrix = svd.fit_transform(tfidf_matrix)"
   ]
  },
  {
   "cell_type": "code",
   "execution_count": 18,
   "metadata": {},
   "outputs": [],
   "source": [
    "d = tfidf_matrix.shape[1]\n",
    "index = faiss.IndexFlatL2(d)\n",
    "index.add(tfidf_matrix) "
   ]
  },
  {
   "cell_type": "code",
   "execution_count": 19,
   "metadata": {},
   "outputs": [],
   "source": [
    "def get_recommendations(name, k=15):\n",
    "    if name not in df['name'].values:\n",
    "        return f\"Medicine '{name}' not found in the dataset.\"\n",
    "    \n",
    "    idx = df.index[df['name'] == name].tolist()[0]\n",
    "    query_vector = tfidf_matrix[idx].reshape(1, -1).astype(np.float32)\n",
    "    distances, indices = index.search(query_vector, k + 1)  \n",
    "    similar_indices = indices[0][1:]\n",
    "    \n",
    "    recommendations = []\n",
    "    for i in similar_indices:\n",
    "        med_name = df['name'].iloc[i]\n",
    "        price_info = prices_map.get(med_name, {'prices': 'N/A', 'manufacturer_name': 'N/A'})\n",
    "        recommendations.append({\n",
    "            'name': med_name,\n",
    "            'prices': price_info['prices'],\n",
    "            'manufacturer_name': price_info['manufacturer_name']\n",
    "        })\n",
    "    cheapest_alternative = \"\"\n",
    "    cheapest_price = prices_map[name].get(\"prices\")\n",
    "    for alternative in recommendations:\n",
    "        if alternative['prices'] == 'N/A':\n",
    "            continue\n",
    "        cheapest_price = min(cheapest_price,alternative['prices'])\n",
    "        if cheapest_price == alternative['prices']:\n",
    "             cheapest_alternative = alternative['name']\n",
    "    return (f\"cheapest_alternative: {cheapest_alternative} with price: {cheapest_price} \\n\\n\" + str(recommendations) )\n"
   ]
  },
  {
   "cell_type": "code",
   "execution_count": 21,
   "metadata": {},
   "outputs": [
    {
     "name": "stdout",
     "output_type": "stream",
     "text": [
      "cheapest_alternative: A Mol 650mg with price: 9.0 \n",
      "\n",
      "[{'name': 'Algina 650', 'prices': 11.25, 'manufacturer_name': 'Geno Pharmaceuticals Ltd'}, {'name': 'Arden 650mg', 'prices': 30.91, 'manufacturer_name': 'Adonis Laboratories Pvt Ltd'}, {'name': 'A Mol 650mg', 'prices': 9.0, 'manufacturer_name': 'Aan Pharma Pvt Ltd'}, {'name': 'Admol 650 Tablet DT', 'prices': 22.85, 'manufacturer_name': 'Kepler Health Care'}, {'name': 'Atpera 650', 'prices': 17.0, 'manufacturer_name': 'Atlantis Formulations Pvt Ltd'}]\n"
     ]
    }
   ],
   "source": [
    "\n",
    "print(get_recommendations(\"Dolo 650\", k=5))"
   ]
  }
 ],
 "metadata": {
  "kernelspec": {
   "display_name": "Python 3",
   "language": "python",
   "name": "python3"
  },
  "language_info": {
   "codemirror_mode": {
    "name": "ipython",
    "version": 3
   },
   "file_extension": ".py",
   "mimetype": "text/x-python",
   "name": "python",
   "nbconvert_exporter": "python",
   "pygments_lexer": "ipython3",
   "version": "3.12.5"
  }
 },
 "nbformat": 4,
 "nbformat_minor": 2
}
